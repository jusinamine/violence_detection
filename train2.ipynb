{
  "nbformat": 4,
  "nbformat_minor": 0,
  "metadata": {
    "colab": {
      "name": "train.ipynb",
      "provenance": [],
      "collapsed_sections": [],
      "include_colab_link": true
    },
    "kernelspec": {
      "name": "python3",
      "display_name": "Python 3"
    },
    "accelerator": "GPU"
  },
  "cells": [
    {
      "cell_type": "markdown",
      "metadata": {
        "id": "view-in-github",
        "colab_type": "text"
      },
      "source": [
        "<a href=\"https://colab.research.google.com/github/jusinamine/violence_detection/blob/master/train2.ipynb\" target=\"_parent\"><img src=\"https://colab.research.google.com/assets/colab-badge.svg\" alt=\"Open In Colab\"/></a>"
      ]
    },
    {
      "cell_type": "code",
      "metadata": {
        "id": "x4U_3FyZqQ-p",
        "colab_type": "code",
        "colab": {
          "base_uri": "https://localhost:8080/",
          "height": 193
        },
        "outputId": "2e3017dd-ba7c-4dc3-9837-facb4222b51c"
      },
      "source": [
        "!pip install import_ipynb\n",
        "\n"
      ],
      "execution_count": null,
      "outputs": [
        {
          "output_type": "stream",
          "text": [
            "Collecting import_ipynb\n",
            "  Downloading https://files.pythonhosted.org/packages/63/35/495e0021bfdcc924c7cdec4e9fbb87c88dd03b9b9b22419444dc370c8a45/import-ipynb-0.1.3.tar.gz\n",
            "Building wheels for collected packages: import-ipynb\n",
            "  Building wheel for import-ipynb (setup.py) ... \u001b[?25l\u001b[?25hdone\n",
            "  Created wheel for import-ipynb: filename=import_ipynb-0.1.3-cp36-none-any.whl size=2976 sha256=5dc00cff7a2b7095ef67e8efb6b828e2713473a644bba274b885946760787739\n",
            "  Stored in directory: /root/.cache/pip/wheels/b4/7b/e9/a3a6e496115dffdb4e3085d0ae39ffe8a814eacc44bbf494b5\n",
            "Successfully built import-ipynb\n",
            "Installing collected packages: import-ipynb\n",
            "Successfully installed import-ipynb-0.1.3\n"
          ],
          "name": "stdout"
        }
      ]
    },
    {
      "cell_type": "code",
      "metadata": {
        "id": "WBQHo-3ntbZO",
        "colab_type": "code",
        "colab": {
          "base_uri": "https://localhost:8080/",
          "height": 52
        },
        "outputId": "6705e3e6-5160-41cd-d790-fcd36f220be4"
      },
      "source": [
        "import import_ipynb\n",
        "from keras.preprocessing.image import ImageDataGenerator\n",
        "from keras.optimizers import Nadam\n",
        "from random import shuffle\n",
        "from sklearn.metrics import classification_report\n",
        "import cv2\n",
        "import numpy as np\n",
        "import os \n",
        "import data_builder\n",
        "import model_builder"
      ],
      "execution_count": null,
      "outputs": [
        {
          "output_type": "stream",
          "text": [
            "importing Jupyter notebook from data_builder.ipynb\n",
            "importing Jupyter notebook from model_builder.ipynb\n"
          ],
          "name": "stdout"
        }
      ]
    },
    {
      "cell_type": "code",
      "metadata": {
        "id": "W2vIlBIPpoyc",
        "colab_type": "code",
        "colab": {
          "base_uri": "https://localhost:8080/",
          "height": 124
        },
        "outputId": "372d075c-153b-4f18-c1be-85621b652670"
      },
      "source": [
        "from google.colab import drive\n",
        "drive.mount('/content/drive')"
      ],
      "execution_count": null,
      "outputs": [
        {
          "output_type": "stream",
          "text": [
            "Go to this URL in a browser: https://accounts.google.com/o/oauth2/auth?client_id=947318989803-6bn6qk8qdgf4n4g3pfee6491hc0brc4i.apps.googleusercontent.com&redirect_uri=urn%3aietf%3awg%3aoauth%3a2.0%3aoob&scope=email%20https%3a%2f%2fwww.googleapis.com%2fauth%2fdocs.test%20https%3a%2f%2fwww.googleapis.com%2fauth%2fdrive%20https%3a%2f%2fwww.googleapis.com%2fauth%2fdrive.photos.readonly%20https%3a%2f%2fwww.googleapis.com%2fauth%2fpeopleapi.readonly&response_type=code\n",
            "\n",
            "Enter your authorization code:\n",
            "4/3wE9w7gsDWtZJruBuB6MhsZrzriEb074f-bpLEkRKKqw27qu9RxBqcc\n",
            "Mounted at /content/drive\n"
          ],
          "name": "stdout"
        }
      ]
    },
    {
      "cell_type": "markdown",
      "metadata": {
        "id": "swiIkGw27YAr",
        "colab_type": "text"
      },
      "source": [
        "**les liens de dataset**"
      ]
    },
    {
      "cell_type": "code",
      "metadata": {
        "id": "XrsRTOOQuCN4",
        "colab_type": "code",
        "colab": {}
      },
      "source": [
        "train_path = '/content/drive/My Drive/code/fight-detection-surv-dataset/splitdata/train'\n",
        "val_path = '/content/drive/My Drive/code/fight-detection-surv-dataset/splitdata/validation'"
      ],
      "execution_count": null,
      "outputs": []
    },
    {
      "cell_type": "code",
      "metadata": {
        "id": "BeTu7Nxttm73",
        "colab_type": "code",
        "colab": {
          "base_uri": "https://localhost:8080/",
          "height": 52
        },
        "outputId": "3a10ac87-04d2-4d91-db89-d3194958109d"
      },
      "source": [
        "train_datagen = ImageDataGenerator(\n",
        "        rescale=1./255,\n",
        "        shear_range=0.2,\n",
        "        zoom_range=0.2,\n",
        "        horizontal_flip=True)\n",
        "\n",
        "test_datagen = ImageDataGenerator(rescale=1./255)\n",
        "\n",
        "train_generator = train_datagen.flow_from_directory(\n",
        "        train_path,\n",
        "        target_size=(150 , 150),\n",
        "        batch_size=32,\n",
        "        class_mode='binary',shuffle=True)\n",
        "\n",
        "validation_generator = test_datagen.flow_from_directory(\n",
        "        val_path,\n",
        "        target_size=(150, 150),\n",
        "        batch_size=32,\n",
        "        class_mode='binary',shuffle=True)"
      ],
      "execution_count": null,
      "outputs": [
        {
          "output_type": "stream",
          "text": [
            "Found 699 images belonging to 2 classes.\n",
            "Found 140 images belonging to 2 classes.\n"
          ],
          "name": "stdout"
        }
      ]
    },
    {
      "cell_type": "code",
      "metadata": {
        "id": "GbE5Fx4HuWhl",
        "colab_type": "code",
        "colab": {}
      },
      "source": [
        "vgg_model = model_builder.vgg_model((150,150,3))\n",
        "#cnn_fcn_model = model_builder.cnn_fcn((150,150,3))"
      ],
      "execution_count": null,
      "outputs": []
    },
    {
      "cell_type": "code",
      "metadata": {
        "id": "6F8BXK_CuxNo",
        "colab_type": "code",
        "colab": {}
      },
      "source": [
        "optimizer = Nadam(lr=0.002,\n",
        "                  beta_1=0.9,\n",
        "                  beta_2=0.999,\n",
        "                  epsilon=1e-08,\n",
        "                  schedule_decay=0.004)\n",
        "\n",
        "vgg_model.compile(loss=\"sparse_categorical_crossentropy\", optimizer=\"adam\", metrics=[\"accuracy\"]) \n",
        "#cnn_fcn_model.compile(loss=\"sparse_categorical_crossentropy\", optimizer=\"adam\", metrics=[\"accuracy\"]) "
      ],
      "execution_count": null,
      "outputs": []
    },
    {
      "cell_type": "code",
      "metadata": {
        "id": "JpajzmIqqwm0",
        "colab_type": "code",
        "colab": {}
      },
      "source": [
        ""
      ],
      "execution_count": null,
      "outputs": []
    },
    {
      "cell_type": "code",
      "metadata": {
        "id": "zYSwb5vuvGff",
        "colab_type": "code",
        "colab": {
          "base_uri": "https://localhost:8080/",
          "height": 732
        },
        "outputId": "1e9464ff-a159-49b8-9644-8fedf1c4a596"
      },
      "source": [
        "history_vgg = vgg_model.fit_generator(train_generator,\n",
        "\tvalidation_data=validation_generator, steps_per_epoch=20,\n",
        "\tepochs=20,shuffle=True)"
      ],
      "execution_count": null,
      "outputs": [
        {
          "output_type": "stream",
          "text": [
            "Epoch 1/20\n",
            "20/20 [==============================] - 10s 514ms/step - loss: 0.6918 - accuracy: 0.5402 - val_loss: 0.6906 - val_accuracy: 0.5357\n",
            "Epoch 2/20\n",
            "20/20 [==============================] - 10s 497ms/step - loss: 0.6922 - accuracy: 0.5181 - val_loss: 0.6911 - val_accuracy: 0.5357\n",
            "Epoch 3/20\n",
            "20/20 [==============================] - 10s 498ms/step - loss: 0.6908 - accuracy: 0.5354 - val_loss: 0.6912 - val_accuracy: 0.5357\n",
            "Epoch 4/20\n",
            "20/20 [==============================] - 10s 491ms/step - loss: 0.6912 - accuracy: 0.5370 - val_loss: 0.6906 - val_accuracy: 0.5357\n",
            "Epoch 5/20\n",
            "20/20 [==============================] - 10s 494ms/step - loss: 0.6913 - accuracy: 0.5354 - val_loss: 0.6906 - val_accuracy: 0.5357\n",
            "Epoch 6/20\n",
            "20/20 [==============================] - 10s 491ms/step - loss: 0.6903 - accuracy: 0.5370 - val_loss: 0.6908 - val_accuracy: 0.5357\n",
            "Epoch 7/20\n",
            "20/20 [==============================] - 10s 491ms/step - loss: 0.6897 - accuracy: 0.5449 - val_loss: 0.6908 - val_accuracy: 0.5357\n",
            "Epoch 8/20\n",
            "20/20 [==============================] - 10s 494ms/step - loss: 0.6924 - accuracy: 0.5213 - val_loss: 0.6906 - val_accuracy: 0.5357\n",
            "Epoch 9/20\n",
            "20/20 [==============================] - 10s 489ms/step - loss: 0.6912 - accuracy: 0.5417 - val_loss: 0.6907 - val_accuracy: 0.5357\n",
            "Epoch 10/20\n",
            "20/20 [==============================] - 10s 495ms/step - loss: 0.6903 - accuracy: 0.5339 - val_loss: 0.6906 - val_accuracy: 0.5357\n",
            "Epoch 11/20\n",
            "20/20 [==============================] - 10s 497ms/step - loss: 0.6919 - accuracy: 0.5370 - val_loss: 0.6908 - val_accuracy: 0.5357\n",
            "Epoch 12/20\n",
            "20/20 [==============================] - 10s 488ms/step - loss: 0.6917 - accuracy: 0.5307 - val_loss: 0.6906 - val_accuracy: 0.5357\n",
            "Epoch 13/20\n",
            "20/20 [==============================] - 10s 493ms/step - loss: 0.6914 - accuracy: 0.5354 - val_loss: 0.6906 - val_accuracy: 0.5357\n",
            "Epoch 14/20\n",
            "20/20 [==============================] - 10s 489ms/step - loss: 0.6903 - accuracy: 0.5386 - val_loss: 0.6906 - val_accuracy: 0.5357\n",
            "Epoch 15/20\n",
            "20/20 [==============================] - 10s 501ms/step - loss: 0.6921 - accuracy: 0.5244 - val_loss: 0.6907 - val_accuracy: 0.5357\n",
            "Epoch 16/20\n",
            "20/20 [==============================] - 10s 485ms/step - loss: 0.6913 - accuracy: 0.5323 - val_loss: 0.6906 - val_accuracy: 0.5357\n",
            "Epoch 17/20\n",
            "20/20 [==============================] - 10s 493ms/step - loss: 0.6913 - accuracy: 0.5323 - val_loss: 0.6907 - val_accuracy: 0.5357\n",
            "Epoch 18/20\n",
            "20/20 [==============================] - 10s 494ms/step - loss: 0.6910 - accuracy: 0.5354 - val_loss: 0.6906 - val_accuracy: 0.5357\n",
            "Epoch 19/20\n",
            "20/20 [==============================] - 10s 490ms/step - loss: 0.6917 - accuracy: 0.5370 - val_loss: 0.6907 - val_accuracy: 0.5357\n",
            "Epoch 20/20\n",
            "20/20 [==============================] - 10s 488ms/step - loss: 0.6920 - accuracy: 0.5276 - val_loss: 0.6906 - val_accuracy: 0.5357\n"
          ],
          "name": "stdout"
        }
      ]
    },
    {
      "cell_type": "code",
      "metadata": {
        "id": "6gVkyWLOscVP",
        "colab_type": "code",
        "colab": {}
      },
      "source": [
        ""
      ],
      "execution_count": null,
      "outputs": []
    },
    {
      "cell_type": "code",
      "metadata": {
        "id": "jSj7Sx5TvTKh",
        "colab_type": "code",
        "colab": {}
      },
      "source": [
        "history_cnn_fcn = cnn_fcn_model.fit_generator(train_generator,\n",
        "\tvalidation_data=validation_generator, steps_per_epoch=220,\n",
        "\tepochs=20,shuffle=True)"
      ],
      "execution_count": null,
      "outputs": []
    },
    {
      "cell_type": "code",
      "metadata": {
        "id": "IbOH5_9ovYcQ",
        "colab_type": "code",
        "colab": {}
      },
      "source": [
        "vgg_model.save('vgg_model.h5')\n",
        "#vgg_model.save('cnn_fcn.h5')"
      ],
      "execution_count": null,
      "outputs": []
    }
  ]
}
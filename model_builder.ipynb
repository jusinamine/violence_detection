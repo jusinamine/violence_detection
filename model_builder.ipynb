{
  "nbformat": 4,
  "nbformat_minor": 0,
  "metadata": {
    "colab": {
      "name": "model_builder.ipynb",
      "provenance": [],
      "collapsed_sections": []
    },
    "kernelspec": {
      "name": "python3",
      "display_name": "Python 3"
    }
  },
  "cells": [
    {
      "cell_type": "code",
      "metadata": {
        "id": "KmctWA2Yol0D",
        "colab_type": "code",
        "colab": {}
      },
      "source": [
        "from keras.models import Model, Sequential\n",
        "from keras.layers import Input\n",
        "from keras.layers import Conv2D\n",
        "from keras.layers import MaxPooling2D\n",
        "from keras.layers import Activation, Dropout, Flatten, Dense\n"
      ],
      "execution_count": null,
      "outputs": []
    },
    {
      "cell_type": "markdown",
      "metadata": {
        "id": "JAT2bk0OrszX",
        "colab_type": "text"
      },
      "source": [
        "**Vgg16 model** "
      ]
    },
    {
      "cell_type": "code",
      "metadata": {
        "id": "rqpug49vqfWf",
        "colab_type": "code",
        "colab": {}
      },
      "source": [
        "# function for creating a vgg block\n",
        "def vgg_block(layer_in, n_filters, n_conv):\n",
        "\t# add convolutional layers\n",
        "\tfor _ in range(n_conv):\n",
        "\t\tlayer_in = Conv2D(n_filters, (3,3), padding='same', activation='relu')(layer_in)\n",
        "\t# add max pooling layer\n",
        "\tlayer_in = MaxPooling2D((2,2), strides=(2,2))(layer_in)\n",
        "\treturn layer_in\n",
        "\n",
        "def vgg_model(input_shape):\n",
        "  # define model input\n",
        "  visible = Input(shape=input_shape)\n",
        "  # add vgg module\n",
        "  layer = vgg_block(visible, 64, 2)\n",
        "  layer = vgg_block(layer, 64, 2)\n",
        "  layer = vgg_block(layer, 64, 2)\n",
        "  layer = vgg_block(layer, 64, 3)\n",
        "  layer = vgg_block(layer, 64, 3)\n",
        "  layer = vgg_block(layer, 64, 3)\n",
        "  layer = Dropout(0.5)(layer)\n",
        "  layer = Flatten()(layer)\n",
        "  layer = Dense(2,activation=\"softmax\")(layer)\n",
        "\n",
        "  # create model\n",
        "  model = Model(inputs=visible, outputs=layer)\n",
        "  return model"
      ],
      "execution_count": 1,
      "outputs": []
    },
    {
      "cell_type": "markdown",
      "metadata": {
        "id": "tN42RzAqsF_w",
        "colab_type": "text"
      },
      "source": [
        "**convolutional neural network + fully connected layer**"
      ]
    },
    {
      "cell_type": "code",
      "metadata": {
        "id": "znRZyy0SrHDq",
        "colab_type": "code",
        "colab": {}
      },
      "source": [
        "def cnn_fcn(input_shape):\n",
        "  model = Sequential()\n",
        "\n",
        "  model.add(Conv2D(32,activation='relu',kernel_size=(3,3),input_shape=input_shape))\n",
        "  model.add(MaxPool2D(pool_size=2))\n",
        "  model.add(Dropout(0.2))\n",
        "\n",
        "  model.add(Conv2D(32,activation='relu',kernel_size=(3,3),padding='same'))\n",
        "  model.add(MaxPool2D(pool_size=2))\n",
        "  model.add(Dropout(0.2))\n",
        "\n",
        "  model.add(Conv2D(64,activation='relu',kernel_size=(3,3),padding='same'))\n",
        "  model.add(MaxPool2D(pool_size=2))\n",
        "  model.add(Dropout(0.5))\n",
        "\n",
        "  model.add(Flatten())\n",
        "  model.add(Dense(1024,activation='relu'))\n",
        "  model.add(Dropout(0.5))\n",
        "  model.add(Dense(128,activation='relu'))\n",
        "  model.add(Dense(2,activation='softmax'))\n",
        "  return model\n"
      ],
      "execution_count": null,
      "outputs": []
    }
  ]
}
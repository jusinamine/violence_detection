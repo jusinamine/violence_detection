{
  "nbformat": 4,
  "nbformat_minor": 0,
  "metadata": {
    "colab": {
      "name": "test.ipynb",
      "provenance": [],
      "collapsed_sections": []
    },
    "kernelspec": {
      "name": "python3",
      "display_name": "Python 3"
    }
  },
  "cells": [
    {
      "cell_type": "code",
      "metadata": {
        "id": "USRNNNEawDsI",
        "colab_type": "code",
        "colab": {}
      },
      "source": [
        "from keras.models import load_model\n",
        "from random import  shuffle\n",
        "from sklearn.utils import shuffle\n",
        "from sklearn.metrics import classification_report\n",
        "import os\n",
        "import cv2\n",
        "import numpy as np"
      ],
      "execution_count": null,
      "outputs": []
    },
    {
      "cell_type": "code",
      "metadata": {
        "id": "EyqToxLEwoTp",
        "colab_type": "code",
        "colab": {}
      },
      "source": [
        "path_violence = '/content/drive/My Drive/vio_novio_data/test/violence'\n",
        "path_noviolence = '/content/drive/My Drive/vio_novio_data/test/no_violence'"
      ],
      "execution_count": null,
      "outputs": []
    },
    {
      "cell_type": "code",
      "metadata": {
        "id": "hiCzBQwRwSIO",
        "colab_type": "code",
        "colab": {}
      },
      "source": [
        "def load_test_data(data_paths,first=300,last=300):\n",
        "  x_test = []\n",
        "  y_test = []\n",
        "  vio_path,novio_path = data_paths\n",
        "  print(vio_path)\n",
        "  vio_img_list = [os.path.join(vio_path,img) for img in os.listdir(vio_path)]\n",
        "  novio_img_list = [os.path.join(novio_path,img) for img in os.listdir(novio_path)]\n",
        "  img_list = vio_img_list[first:last] + novio_img_list[first:last]\n",
        "  shuffle(img_list)\n",
        "\n",
        "  for img in img_list:\n",
        "    img_array = cv2.imread(img , cv2.IMREAD_COLOR)\n",
        "    new_array = cv2.resize(img_array ,(150 ,150))\n",
        "    x_test.append(new_array)\n",
        "    if 'no_violence' in img:\n",
        "      y_test.append(0)\n",
        "    elif 'violence' in img:\n",
        "      y_test.append(1)\n",
        "\n",
        "  x_test = np.array(x_test)/255\n",
        "  y_test = np.array(y_test) \n",
        "  return x_test,y_test"
      ],
      "execution_count": null,
      "outputs": []
    },
    {
      "cell_type": "code",
      "metadata": {
        "id": "p-uFoAL5wYv0",
        "colab_type": "code",
        "colab": {}
      },
      "source": [
        "vgg_model = load_model('/content/drive/My Drive/mod5.h5')\n",
        "cnn_model = load_model('/content/drive/My Drive/v1_cnn.h5')"
      ],
      "execution_count": null,
      "outputs": []
    },
    {
      "cell_type": "code",
      "metadata": {
        "id": "bM3JeBGMwm1h",
        "colab_type": "code",
        "colab": {}
      },
      "source": [
        "test_data = (path_violence, path_noviolence)\n",
        "x_test,y_test = load_test_data(test_data,0,200)"
      ],
      "execution_count": null,
      "outputs": []
    },
    {
      "cell_type": "code",
      "metadata": {
        "id": "LX4uzBGzw_7x",
        "colab_type": "code",
        "colab": {}
      },
      "source": [
        "X_test,Y_test = shuffle(x_test,y_test)"
      ],
      "execution_count": null,
      "outputs": []
    },
    {
      "cell_type": "code",
      "metadata": {
        "id": "0vEHtneuxAtC",
        "colab_type": "code",
        "colab": {}
      },
      "source": [
        "prediction1 = cnn_model.predict(X_test,batch_size=32)\n",
        "print(classification_report(Y_test,prediction1.argmax(axis=1)))"
      ],
      "execution_count": null,
      "outputs": []
    },
    {
      "cell_type": "code",
      "metadata": {
        "id": "hBtMfzvWxI7R",
        "colab_type": "code",
        "colab": {}
      },
      "source": [
        "prediction2 = vgg_model.predict(X_test,batch_size=32)\n",
        "print(classification_report(Y_test,prediction2.argmax(axis=1)))"
      ],
      "execution_count": null,
      "outputs": []
    }
  ]
}
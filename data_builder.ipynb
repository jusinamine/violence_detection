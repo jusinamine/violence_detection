{
  "nbformat": 4,
  "nbformat_minor": 0,
  "metadata": {
    "colab": {
      "name": "data_builder.ipynb",
      "provenance": [],
      "collapsed_sections": []
    },
    "kernelspec": {
      "name": "python3",
      "display_name": "Python 3"
    }
  },
  "cells": [
    {
      "cell_type": "code",
      "metadata": {
        "id": "q-6otL2BmfLK",
        "colab_type": "code",
        "colab": {}
      },
      "source": [
        "import os\n",
        "import cv2\n",
        "import numpy as np\n",
        "import shutil"
      ],
      "execution_count": null,
      "outputs": []
    },
    {
      "cell_type": "markdown",
      "metadata": {
        "id": "nzgNzY74nOuK",
        "colab_type": "text"
      },
      "source": [
        "**Frame_exctract()** Exctract frames from video"
      ]
    },
    {
      "cell_type": "code",
      "metadata": {
        "id": "_cfZNqpAmk5t",
        "colab_type": "code",
        "colab": {}
      },
      "source": [
        "#exctract frames from videos \n",
        "def frame_exctract(path,path_out):\n",
        "  count = 0\n",
        "  counter = 1\n",
        "  listing = os.listdir(path)\n",
        "\n",
        "  try:\n",
        "    if \"violence_img\" in path_out:\n",
        "      os.mkdir(path_out.replace(\"/violence_img\",\"\"))\n",
        "    elif \"nonViolence_img\" in path_out:\n",
        "      os.mkdir(path_out.replace(\"/nonViolence_img\",\"\"))\n",
        "  except OSError:\n",
        "      print (\"Creation of the directory %s failed\" % path_out)\n",
        "  else:\n",
        "      print (\"Successfully created the directory %s \" % path_out)\n",
        "\n",
        "  try:\n",
        "    os.mkdir(path_out)\n",
        "  except OSError:\n",
        "      print (\"Creation of the directory %s failed\" % path_out)\n",
        "  else:\n",
        "      print (\"Successfully created the directory %s \" % path_out)\n",
        "\n",
        "  for vid in listing:\n",
        "    print(\"===========> video:\",listing.index(vid))\n",
        "    vid = path + \"/\" + vid\n",
        "    cap = cv2.VideoCapture(vid)\n",
        "    count = 0\n",
        "    counter += 1\n",
        "    while cap.isOpened():\n",
        "        success,image = cap.read()\n",
        "        if success == False:\n",
        "          break\n",
        "        if count%20 == 0 :\n",
        "          cv2.imwrite(path_out+'/'+'frame'+str(counter)+'_'+str(count)+'.jpg',image)\n",
        "        count+=1"
      ],
      "execution_count": null,
      "outputs": []
    },
    {
      "cell_type": "markdown",
      "metadata": {
        "id": "pauRkhgznzRJ",
        "colab_type": "text"
      },
      "source": [
        "**copy_files()** Function for copying files from d"
      ]
    },
    {
      "cell_type": "code",
      "metadata": {
        "id": "i0O4XQZpnC_J",
        "colab_type": "code",
        "colab": {}
      },
      "source": [
        "def copy_files(files_path,dest):\n",
        "  print(\"copy files into: \",dest)\n",
        "  print(\"number of files: \",len(files_path))\n",
        "  i = 0\n",
        "  for f in files_path:\n",
        "    if os.path.isfile(f):\n",
        "        shutil.copy(f, dest)\n",
        "        print(\"copy file number: \",i)\n",
        "        i+=1"
      ],
      "execution_count": null,
      "outputs": []
    },
    {
      "cell_type": "markdown",
      "metadata": {
        "id": "OZRweueboIRK",
        "colab_type": "text"
      },
      "source": [
        "**build_data()** Split the images data into train test validation"
      ]
    },
    {
      "cell_type": "code",
      "metadata": {
        "id": "u8vViZFQm1pW",
        "colab_type": "code",
        "colab": {}
      },
      "source": [
        "#split data into train test validation \n",
        "def build_data(data_dir,sp_dir):\n",
        "  #create directory of all data (train,test,validation)\n",
        "  try:\n",
        "    os.mkdir(sp_dir)\n",
        "    print(\"create data directory \",sp_dir)\n",
        "  except OSError:\n",
        "    print(\"Creation of the directory %s failed\")\n",
        "\n",
        "  #create train directory\n",
        "  for sub in ['train','validation','test']:\n",
        "    sub_dir = os.path.join(sp_dir,sub)\n",
        "    os.mkdir(sub_dir)\n",
        "    violence_dir = os.path.join(sub_dir,'violence')\n",
        "    os.mkdir(violence_dir)\n",
        "    no_violence_dir = os.path.join(sub_dir,'no_violence')\n",
        "    os.mkdir(no_violence_dir)\n",
        "\n",
        "  #split the data \n",
        "  train_dir = os.path.join(sp_dir,'train')\n",
        "  validation_dir = os.path.join(sp_dir,'validation')\n",
        "  test_dir = os.path.join(sp_dir,'test')\n",
        "\n",
        "  os.listdir(data_dir)\n",
        "  vio_imgs_path = [ data_dir+'/violence_img/'+img_name for img_name in os.listdir(os.path.join(data_dir,'violence_img')) ]\n",
        "  novio_imgs_path = [ data_dir+'/nonViolence_img/'+img_name for img_name in os.listdir(os.path.join(data_dir,'nonViolence_img')) ]\n",
        "\n",
        "  #split files (violence / no violence) to 75% train 15% validation 10% test\n",
        "  vio_train_files = vio_imgs_path[:int(len(vio_imgs_path)*0.75)]\n",
        "  vio_validation_files = vio_imgs_path[int(len(vio_imgs_path)*0.75):int(len(vio_imgs_path)*0.90)]\n",
        "  vio_test_files = vio_imgs_path[int(len(vio_imgs_path)*0.90):len(vio_imgs_path)]\n",
        "  \n",
        "  novio_train_files = novio_imgs_path[:int(len(novio_imgs_path)*0.75)]\n",
        "  novio_validation_files = novio_imgs_path[int(len(novio_imgs_path)*0.75):int(len(novio_imgs_path)*0.90)]\n",
        "  novio_test_files = novio_imgs_path[int(len(novio_imgs_path)*0.90):len(novio_imgs_path)]\n",
        "\n",
        "  #copy files to dirs (train test validation dir)\n",
        "  copy_files(vio_train_files, os.path.join(train_dir,'violence'))\n",
        "  copy_files(vio_validation_files, os.path.join(validation_dir,'violence'))\n",
        "  copy_files(vio_train_files, os.path.join(test_dir,'violence'))\n",
        "\n",
        "  copy_files(novio_train_files, os.path.join(train_dir,'no_violence'))\n",
        "  copy_files(novio_validation_files, os.path.join(validation_dir,'no_violence'))\n",
        "  copy_files(novio_test_files, os.path.join(test_dir,'no_violence'))\n",
        "\n",
        "  print(\"#### end of data building ###\")"
      ],
      "execution_count": null,
      "outputs": []
    }
  ]
}
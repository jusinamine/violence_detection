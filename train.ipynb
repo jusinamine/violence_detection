{
  "nbformat": 4,
  "nbformat_minor": 0,
  "metadata": {
    "colab": {
      "name": "train.ipynb",
      "provenance": [],
      "collapsed_sections": []
    },
    "kernelspec": {
      "name": "python3",
      "display_name": "Python 3"
    }
  },
  "cells": [
    {
      "cell_type": "code",
      "metadata": {
        "id": "WBQHo-3ntbZO",
        "colab_type": "code",
        "colab": {}
      },
      "source": [
        "import import_ipynb\n",
        "from keras.preprocessing.image import ImageDataGenerator\n",
        "from keras.optimizers import Nadam\n",
        "from random import shuffle\n",
        "from sklearn.metrics import classification_report\n",
        "import cv2\n",
        "import numpy as np\n",
        "import os \n",
        "import data_builder\n",
        "import model_builder"
      ],
      "execution_count": null,
      "outputs": []
    },
    {
      "cell_type": "code",
      "metadata": {
        "id": "XrsRTOOQuCN4",
        "colab_type": "code",
        "colab": {}
      },
      "source": [
        "train_path = '/content/drive/My Drive/vio_novio_data/train'\n",
        "val_path = '/content/drive/My Drive/vio_novio_data/validation'"
      ],
      "execution_count": null,
      "outputs": []
    },
    {
      "cell_type": "code",
      "metadata": {
        "id": "BeTu7Nxttm73",
        "colab_type": "code",
        "colab": {}
      },
      "source": [
        "train_datagen = ImageDataGenerator(\n",
        "        rescale=1./255,\n",
        "        shear_range=0.2,\n",
        "        zoom_range=0.2,\n",
        "        horizontal_flip=True)\n",
        "\n",
        "test_datagen = ImageDataGenerator(rescale=1./255)\n",
        "\n",
        "train_generator = train_datagen.flow_from_directory(\n",
        "        train_path,\n",
        "        target_size=(150 , 150),\n",
        "        batch_size=32,\n",
        "        class_mode='binary',shuffle=True)\n",
        "\n",
        "validation_generator = test_datagen.flow_from_directory(\n",
        "        val_path,\n",
        "        target_size=(150, 150),\n",
        "        batch_size=32,\n",
        "        class_mode='binary',shuffle=True)"
      ],
      "execution_count": null,
      "outputs": []
    },
    {
      "cell_type": "code",
      "metadata": {
        "id": "GbE5Fx4HuWhl",
        "colab_type": "code",
        "colab": {}
      },
      "source": [
        "vgg_model = model_builder.vgg_block((150,150,3))\n",
        "cnn_fcn_model = model_builder.cnn_fcn((150,150,3))"
      ],
      "execution_count": null,
      "outputs": []
    },
    {
      "cell_type": "code",
      "metadata": {
        "id": "6F8BXK_CuxNo",
        "colab_type": "code",
        "colab": {}
      },
      "source": [
        "optimizer = Nadam(lr=0.002,\n",
        "                  beta_1=0.9,\n",
        "                  beta_2=0.999,\n",
        "                  epsilon=1e-08,\n",
        "                  schedule_decay=0.004)\n",
        "\n",
        "vgg_model.compile(loss=\"sparse_categorical_crossentropy\", optimizer=\"adam\", metrics=[\"accuracy\"]) \n",
        "cnn_fcn_model.compile(loss=\"sparse_categorical_crossentropy\", optimizer=\"adam\", metrics=[\"accuracy\"]) "
      ],
      "execution_count": null,
      "outputs": []
    },
    {
      "cell_type": "code",
      "metadata": {
        "id": "zYSwb5vuvGff",
        "colab_type": "code",
        "colab": {}
      },
      "source": [
        "history_vgg = vgg_model.fit_generator(train_generator,\n",
        "\tvalidation_data=validation_generator, steps_per_epoch=220,\n",
        "\tepochs=20,shuffle=True)"
      ],
      "execution_count": null,
      "outputs": []
    },
    {
      "cell_type": "code",
      "metadata": {
        "id": "jSj7Sx5TvTKh",
        "colab_type": "code",
        "colab": {}
      },
      "source": [
        "history_cnn_fcn = cnn_fcn_model.fit_generator(train_generator,\n",
        "\tvalidation_data=validation_generator, steps_per_epoch=220,\n",
        "\tepochs=20,shuffle=True)"
      ],
      "execution_count": null,
      "outputs": []
    },
    {
      "cell_type": "code",
      "metadata": {
        "id": "IbOH5_9ovYcQ",
        "colab_type": "code",
        "colab": {}
      },
      "source": [
        "vgg_model.save('vgg_model.h5')\n",
        "vgg_model.save('cnn_fcn.h5')"
      ],
      "execution_count": null,
      "outputs": []
    }
  ]
}